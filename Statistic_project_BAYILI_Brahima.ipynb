{
  "nbformat": 4,
  "nbformat_minor": 0,
  "metadata": {
    "colab": {
      "provenance": [],
      "include_colab_link": true
    },
    "kernelspec": {
      "name": "python3",
      "display_name": "Python 3"
    },
    "language_info": {
      "name": "python"
    }
  },
  "cells": [
    {
      "cell_type": "markdown",
      "metadata": {
        "id": "view-in-github",
        "colab_type": "text"
      },
      "source": [
        "<a href=\"https://colab.research.google.com/github/bailos/D.I.T/blob/main/Statistic_project_BAYILI_Brahima.ipynb\" target=\"_parent\"><img src=\"https://colab.research.google.com/assets/colab-badge.svg\" alt=\"Open In Colab\"/></a>"
      ]
    },
    {
      "cell_type": "markdown",
      "source": [
        "# STACTISTIC PROJECT\n"
      ],
      "metadata": {
        "id": "1M_dHWkeilpO"
      }
    },
    {
      "cell_type": "markdown",
      "source": [
        "# ***BAYILI Bahima : Master IA***"
      ],
      "metadata": {
        "id": "sKcFYnIsaRXC"
      }
    },
    {
      "cell_type": "code",
      "execution_count": 31,
      "metadata": {
        "id": "wzD8Syx3cI0y"
      },
      "outputs": [],
      "source": [
        "import numpy as np\n",
        "from numpy import random\n",
        "import matplotlib.pyplot as plt\n",
        "from scipy.stats import binom, norm, gamma\n",
        "import pandas as pd\n",
        "import seaborn as sns"
      ]
    },
    {
      "cell_type": "markdown",
      "source": [
        "**# Exercice 1**\n",
        "\n",
        "Question 1 : Simuler un échantillon de taille 10000 suivant une loi binomiale B(30,0.2). Tracer l’histogramme de l’échantillon obtenu"
      ],
      "metadata": {
        "id": "aFx6wsn5IJKf"
      }
    },
    {
      "cell_type": "code",
      "source": [
        "\n",
        "size1 = 10000\n",
        "p = 0.2\n",
        "n = 30\n",
        "binom_sample = binom.rvs(n=n, p=p, size=size1) \n",
        "plt.hist(binom_sample, bins='auto')\n",
        "plt.title(\"Histogramme\")\n",
        "plt.xlabel(\"Valeurs\")\n",
        "plt.ylabel(\"Fréquence \")\n",
        "plt.show()"
      ],
      "metadata": {
        "colab": {
          "base_uri": "https://localhost:8080/",
          "height": 295
        },
        "id": "XkAjDzjXcQQH",
        "outputId": "af705d05-97af-4c7f-9bc6-8b2d792c624d"
      },
      "execution_count": 4,
      "outputs": [
        {
          "output_type": "display_data",
          "data": {
            "text/plain": [
              "<Figure size 432x288 with 1 Axes>"
            ],
            "image/png": "[encoded data removed]"
          },
          "metadata": {
            "needs_background": "light"
          }
        }
      ]
    },
    {
      "cell_type": "markdown",
      "source": [
        "Question 2 : Simuler un échantillon de taille 10000 suivant une loi normale N (3,.4). Tracer la fonction de densité de l’échantillon obtenu. Choisir un intervalle contenant 0 pour domaine de représentation."
      ],
      "metadata": {
        "id": "t0wSgSx3JhDp"
      }
    },
    {
      "cell_type": "code",
      "source": [
        "\n",
        "moyenne = 3\n",
        "sigma = 0.4\n",
        "norm_loi = norm.rvs(moyenne, sigma, size=size1)\n",
        "plt.plot(np.linspace(-1, 7, num=100), norm.pdf(np.linspace(-1, 7, num=100), moyenne, sigma))\n",
        "plt.title(\"Fonction de densité \")\n",
        "plt.xlabel(\"Valeurs\")\n",
        "plt.ylabel(\"probabilité\")\n",
        "plt.show()"
      ],
      "metadata": {
        "colab": {
          "base_uri": "https://localhost:8080/",
          "height": 295
        },
        "id": "3x5b0Cs4eIi3",
        "outputId": "bf2c1f6d-c596-48f8-cd4d-d6df77d2a2a6"
      },
      "execution_count": 5,
      "outputs": [
        {
          "output_type": "display_data",
          "data": {
            "text/plain": [
              "<Figure size 432x288 with 1 Axes>"
            ],
            "image/png": "[encoded data removed]"
          },
          "metadata": {
            "needs_background": "light"
          }
        }
      ]
    },
    {
      "cell_type": "markdown",
      "source": [
        "Question 3 : Simuler un échantillon de taille 10000 suivant une loi gamma γ(10,.5). Tracer la fonction de densité de l’échantillon obtenu. Choisir un intervalle contenant 0 pour domaine de représentation."
      ],
      "metadata": {
        "id": "0o4zQSPkLTfY"
      }
    },
    {
      "cell_type": "code",
      "source": [
        "shape = 10\n",
        "theta = 0.5\n",
        "size = 10000\n",
        "loigamma = np.random.gamma(shape, theta, size)\n",
        "# Générer les X afin de tracer la courbe\n",
        "X = np.linspace(-10,100,10000)\n",
        "\n",
        "# Définition de la fonction \n",
        "def gamma_pdf(X, shape, theta):\n",
        "    return (theta**shape)*(X**(shape-1))*np.exp(-theta*X)/np.math.gamma(shape)\n",
        "\n",
        "Y = gamma_pdf(X, shape, theta)\n",
        "\n",
        "# tracer de la  courbe\n",
        "plt.figure(figsize=(6,4))\n",
        "plt.plot(X, Y, 'r--', linewidth=2)\n",
        "plt.title(label = \"Courbe de densité de la loi gamma \")\n",
        "plt.show()"
      ],
      "metadata": {
        "colab": {
          "base_uri": "https://localhost:8080/",
          "height": 281
        },
        "id": "sTyTDPXNjSLZ",
        "outputId": "7e55e38d-a06a-487b-e61b-a6a2058e14ad"
      },
      "execution_count": 15,
      "outputs": [
        {
          "output_type": "display_data",
          "data": {
            "text/plain": [
              "<Figure size 432x288 with 1 Axes>"
            ],
            "image/png": "[encoded data removed]"
          },
          "metadata": {
            "needs_background": "light"
          }
        }
      ]
    },
    {
      "cell_type": "markdown",
      "source": [
        "# Exercice2"
      ],
      "metadata": {
        "id": "lIX3NvzbmmoM"
      }
    },
    {
      "cell_type": "markdown",
      "source": [
        "Exercice 2 Méthode de Monte Carlo\n",
        "\n",
        "Estimer I2 par une méthode de Monte Carlo avec n = 10000\n",
        "Observer par graphique l’évolution de cette estimation lorsque n varie et vérifier la cohérence avec la valeur\n",
        "théorique I2 = π."
      ],
      "metadata": {
        "id": "lFR0DiBVOX4K"
      }
    },
    {
      "cell_type": "code",
      "source": [
        "def fct(x):\n",
        "    return 4 * np.sqrt(1 - x**2)\n",
        "\n",
        "# Bornes de l'intégrale\n",
        "a, b = 0, 1\n",
        "\n",
        "n = 10000 # Size\n",
        "\n",
        "x = np.random.random(n)\n",
        "y = fct(x)\n",
        "\n",
        "# Calcul de la moyenne\n",
        "m_moyen = np.mean(y)\n",
        "estima = (b - a) * m_moyen\n",
        "print(\"Estimation I2 est : \", estima) # estimation I2\n",
        "print(\"Valeur théorique de l'intégrale I2 : \", np.pi) # Vérification\n",
        "N = np.arange(1, 10001, 100)\n",
        "estimateur = np.zeros(N.shape)\n",
        "for i in range(len(N)):\n",
        "    x = np.random.random(N[i])\n",
        "    y = fct(x)\n",
        "    montant_moyen = np.mean(y)\n",
        "    estimateur[i] = (b - a) * montant_moyen\n",
        "plt.plot(N, estimateur)\n",
        "plt.plot([0, 10000], [np.pi, np.pi], 'r--')\n",
        "plt.xlabel('size')\n",
        "plt.ylabel('Estimation')\n",
        "plt.title('Evolution ')\n",
        "plt.show()\n"
      ],
      "metadata": {
        "colab": {
          "base_uri": "https://localhost:8080/",
          "height": 331
        },
        "id": "OwQ5-IWmmp4c",
        "outputId": "bd8b1037-e879-40cb-bcd4-ce099cefb278"
      },
      "execution_count": 23,
      "outputs": [
        {
          "output_type": "stream",
          "name": "stdout",
          "text": [
            "Estimation I2 est :  3.129963486271416\n",
            "Valeur théorique de l'intégrale I2 :  3.141592653589793\n"
          ]
        },
        {
          "output_type": "display_data",
          "data": {
            "text/plain": [
              "<Figure size 432x288 with 1 Axes>"
            ],
            "image/png": "[encoded data removed]"
          },
          "metadata": {
            "needs_background": "light"
          }
        }
      ]
    },
    {
      "cell_type": "markdown",
      "source": [
        "\n",
        "\n",
        "```\n",
        "# This is formatted as code\n",
        "```\n",
        "\n",
        "# Exercice3"
      ],
      "metadata": {
        "id": "X9mhMDVFrt8x"
      }
    },
    {
      "cell_type": "markdown",
      "source": [
        "Upload **file**"
      ],
      "metadata": {
        "id": "D7ZqtXzdR2hx"
      }
    },
    {
      "cell_type": "code",
      "source": [
        "data = pd.read_csv(\"/content/sample_data/covid-senegal.csv\", sep = ';', header =0)\n",
        "\n",
        "# Convertir la colonne date en type datetime\n",
        "data['date'] = pd.to_datetime(data['date'], dayfirst = True)\n",
        "\n",
        "# Supprimer les valeurs manquantes\n",
        "data.dropna(inplace=True)"
      ],
      "metadata": {
        "id": "eDbSgflbr7J8"
      },
      "execution_count": 26,
      "outputs": []
    },
    {
      "cell_type": "code",
      "source": [
        "from google.colab import drive\n",
        "drive.mount('/content/drive')"
      ],
      "metadata": {
        "colab": {
          "base_uri": "https://localhost:8080/"
        },
        "id": "yH6k4y6FSGPQ",
        "outputId": "27b0c002-8bb5-41b2-8b68-4c1a564c077c"
      },
      "execution_count": 27,
      "outputs": [
        {
          "output_type": "stream",
          "name": "stdout",
          "text": [
            "Mounted at /content/drive\n"
          ]
        }
      ]
    },
    {
      "cell_type": "code",
      "source": [
        "data['proportion'] = round(data['cas'] / data['tests'], 2)"
      ],
      "metadata": {
        "id": "MQwYFvlEr8hw"
      },
      "execution_count": 28,
      "outputs": []
    },
    {
      "cell_type": "code",
      "source": [
        "# Ajout de  la variable total\n",
        "\n",
        "data['total'] = data['cas'].cumsum()\n",
        "data.head()"
      ],
      "metadata": {
        "id": "nWIxKAONr_9-",
        "colab": {
          "base_uri": "https://localhost:8080/",
          "height": 206
        },
        "outputId": "803ee113-071a-483f-9a43-b04847c85783"
      },
      "execution_count": 29,
      "outputs": [
        {
          "output_type": "execute_result",
          "data": {
            "text/plain": [
              "        date  tests  cas  contact  importe  communautaire  proportion  total\n",
              "0 2020-03-02    1.0    1        0        0              0         1.0      1\n",
              "1 2020-03-03    2.0    1        0        1              0         0.5      2\n",
              "2 2020-03-04    2.0    2        1        1              0         1.0      4\n",
              "4 2020-03-06    2.0    0        0        0              0         0.0      4\n",
              "5 2020-03-07    2.0    0        0        0              0         0.0      4"
            ],
            "text/html": [
              "\n",
              "  <div id=\"df-5441ed01-7b78-4d99-97eb-a82915a53157\">\n",
              "    <div class=\"colab-df-container\">\n",
              "      <div>\n",
              "<style scoped>\n",
              "    .dataframe tbody tr th:only-of-type {\n",
              "        vertical-align: middle;\n",
              "    }\n",
              "\n",
              "    .dataframe tbody tr th {\n",
              "        vertical-align: top;\n",
              "    }\n",
              "\n",
              "    .dataframe thead th {\n",
              "        text-align: right;\n",
              "    }\n",
              "</style>\n",
              "<table border=\"1\" class=\"dataframe\">\n",
              "  <thead>\n",
              "    <tr style=\"text-align: right;\">\n",
              "      <th></th>\n",
              "      <th>date</th>\n",
              "      <th>tests</th>\n",
              "      <th>cas</th>\n",
              "      <th>contact</th>\n",
              "      <th>importe</th>\n",
              "      <th>communautaire</th>\n",
              "      <th>proportion</th>\n",
              "      <th>total</th>\n",
              "    </tr>\n",
              "  </thead>\n",
              "  <tbody>\n",
              "    <tr>\n",
              "      <th>0</th>\n",
              "      <td>2020-03-02</td>\n",
              "      <td>1.0</td>\n",
              "      <td>1</td>\n",
              "      <td>0</td>\n",
              "      <td>0</td>\n",
              "      <td>0</td>\n",
              "      <td>1.0</td>\n",
              "      <td>1</td>\n",
              "    </tr>\n",
              "    <tr>\n",
              "      <th>1</th>\n",
              "      <td>2020-03-03</td>\n",
              "      <td>2.0</td>\n",
              "      <td>1</td>\n",
              "      <td>0</td>\n",
              "      <td>1</td>\n",
              "      <td>0</td>\n",
              "      <td>0.5</td>\n",
              "      <td>2</td>\n",
              "    </tr>\n",
              "    <tr>\n",
              "      <th>2</th>\n",
              "      <td>2020-03-04</td>\n",
              "      <td>2.0</td>\n",
              "      <td>2</td>\n",
              "      <td>1</td>\n",
              "      <td>1</td>\n",
              "      <td>0</td>\n",
              "      <td>1.0</td>\n",
              "      <td>4</td>\n",
              "    </tr>\n",
              "    <tr>\n",
              "      <th>4</th>\n",
              "      <td>2020-03-06</td>\n",
              "      <td>2.0</td>\n",
              "      <td>0</td>\n",
              "      <td>0</td>\n",
              "      <td>0</td>\n",
              "      <td>0</td>\n",
              "      <td>0.0</td>\n",
              "      <td>4</td>\n",
              "    </tr>\n",
              "    <tr>\n",
              "      <th>5</th>\n",
              "      <td>2020-03-07</td>\n",
              "      <td>2.0</td>\n",
              "      <td>0</td>\n",
              "      <td>0</td>\n",
              "      <td>0</td>\n",
              "      <td>0</td>\n",
              "      <td>0.0</td>\n",
              "      <td>4</td>\n",
              "    </tr>\n",
              "  </tbody>\n",
              "</table>\n",
              "</div>\n",
              "      <button class=\"colab-df-convert\" onclick=\"convertToInteractive('df-5441ed01-7b78-4d99-97eb-a82915a53157')\"\n",
              "              title=\"Convert this dataframe to an interactive table.\"\n",
              "              style=\"display:none;\">\n",
              "        \n",
              "  <svg xmlns=\"http://www.w3.org/2000/svg\" height=\"24px\"viewBox=\"0 0 24 24\"\n",
              "       width=\"24px\">\n",
              "    <path d=\"M0 0h24v24H0V0z\" fill=\"none\"/>\n",
              "    <path d=\"M18.56 5.44l.94 2.06.94-2.06 2.06-.94-2.06-.94-.94-2.06-.94 2.06-2.06.94zm-11 1L8.5 8.5l.94-2.06 2.06-.94-2.06-.94L8.5 2.5l-.94 2.06-2.06.94zm10 10l.94 2.06.94-2.06 2.06-.94-2.06-.94-.94-2.06-.94 2.06-2.06.94z\"/><path d=\"M17.41 7.96l-1.37-1.37c-.4-.4-.92-.59-1.43-.59-.52 0-1.04.2-1.43.59L10.3 9.45l-7.72 7.72c-.78.78-.78 2.05 0 2.83L4 21.41c.39.39.9.59 1.41.59.51 0 1.02-.2 1.41-.59l7.78-7.78 2.81-2.81c.8-.78.8-2.07 0-2.86zM5.41 20L4 18.59l7.72-7.72 1.47 1.35L5.41 20z\"/>\n",
              "  </svg>\n",
              "      </button>\n",
              "      \n",
              "  <style>\n",
              "    .colab-df-container {\n",
              "      display:flex;\n",
              "      flex-wrap:wrap;\n",
              "      gap: 12px;\n",
              "    }\n",
              "\n",
              "    .colab-df-convert {\n",
              "      background-color: #E8F0FE;\n",
              "      border: none;\n",
              "      border-radius: 50%;\n",
              "      cursor: pointer;\n",
              "      display: none;\n",
              "      fill: #1967D2;\n",
              "      height: 32px;\n",
              "      padding: 0 0 0 0;\n",
              "      width: 32px;\n",
              "    }\n",
              "\n",
              "    .colab-df-convert:hover {\n",
              "      background-color: #E2EBFA;\n",
              "      box-shadow: 0px 1px 2px rgba(60, 64, 67, 0.3), 0px 1px 3px 1px rgba(60, 64, 67, 0.15);\n",
              "      fill: #174EA6;\n",
              "    }\n",
              "\n",
              "    [theme=dark] .colab-df-convert {\n",
              "      background-color: #3B4455;\n",
              "      fill: #D2E3FC;\n",
              "    }\n",
              "\n",
              "    [theme=dark] .colab-df-convert:hover {\n",
              "      background-color: #434B5C;\n",
              "      box-shadow: 0px 1px 3px 1px rgba(0, 0, 0, 0.15);\n",
              "      filter: drop-shadow(0px 1px 2px rgba(0, 0, 0, 0.3));\n",
              "      fill: #FFFFFF;\n",
              "    }\n",
              "  </style>\n",
              "\n",
              "      <script>\n",
              "        const buttonEl =\n",
              "          document.querySelector('#df-5441ed01-7b78-4d99-97eb-a82915a53157 button.colab-df-convert');\n",
              "        buttonEl.style.display =\n",
              "          google.colab.kernel.accessAllowed ? 'block' : 'none';\n",
              "\n",
              "        async function convertToInteractive(key) {\n",
              "          const element = document.querySelector('#df-5441ed01-7b78-4d99-97eb-a82915a53157');\n",
              "          const dataTable =\n",
              "            await google.colab.kernel.invokeFunction('convertToInteractive',\n",
              "                                                     [key], {});\n",
              "          if (!dataTable) return;\n",
              "\n",
              "          const docLinkHtml = 'Like what you see? Visit the ' +\n",
              "            '<a target=\"_blank\" href=https://colab.research.google.com/notebooks/data_table.ipynb>data table notebook</a>'\n",
              "            + ' to learn more about interactive tables.';\n",
              "          element.innerHTML = '';\n",
              "          dataTable['output_type'] = 'display_data';\n",
              "          await google.colab.output.renderOutput(dataTable, element);\n",
              "          const docLink = document.createElement('div');\n",
              "          docLink.innerHTML = docLinkHtml;\n",
              "          element.appendChild(docLink);\n",
              "        }\n",
              "      </script>\n",
              "    </div>\n",
              "  </div>\n",
              "  "
            ]
          },
          "metadata": {},
          "execution_count": 29
        }
      ]
    },
    {
      "cell_type": "code",
      "source": [
        "# Tracer le graphique\n",
        "plt.figure(figsize=(12,4))\n",
        "plt.style.use('seaborn-v0_8-bright')\n",
        "sns.lineplot(x = \"date\", y = 'cas', data = data, label = \"Cas\")\n",
        "sns.lineplot(x = \"date\", y = 'tests', data = data, label = \"Tests\")\n",
        "plt.ylabel(\"Nombre\")     \n",
        "plt.title(label='nombre de Test et nombre de cas en fonction de la date')\n",
        "plt.legend(loc='upper left', bbox_to_anchor=(1, 0.5))\n",
        "plt.show()"
      ],
      "metadata": {
        "id": "ZIId4si0sFPa",
        "colab": {
          "base_uri": "https://localhost:8080/",
          "height": 295
        },
        "outputId": "01e394c5-0888-4ca7-dc84-3da420853979"
      },
      "execution_count": 33,
      "outputs": [
        {
          "output_type": "display_data",
          "data": {
            "text/plain": [
              "<Figure size 864x288 with 1 Axes>"
            ],
            "image/png": "[encoded data removed]"
          },
          "metadata": {
            "needs_background": "light"
          }
        }
      ]
    },
    {
      "cell_type": "code",
      "source": [
        "#  Représentation communautaire et contact en fonction de la date\n",
        "#graphique\n",
        "plt.figure(figsize=(12,4))\n",
        "plt.style.use('seaborn-v0_8-dark-palette')\n",
        "sns.lineplot(x = \"date\", y = 'communautaire', data = data, label = \"Communautaire\")\n",
        "figure2 = sns.lineplot(x = \"date\", y = 'contact', data = data, label = \"Contact\")\n",
        "figure2.set(ylabel = 'Nombre')  \n",
        "plt.title(label='Nombre de communautaire & contact')\n",
        "plt.legend(loc='upper left', bbox_to_anchor=(1, 0.5))\n",
        "plt.show()"
      ],
      "metadata": {
        "id": "R56GZFyMsIa-",
        "colab": {
          "base_uri": "https://localhost:8080/",
          "height": 295
        },
        "outputId": "3981b6b2-bd61-4a76-81d8-e7217f032e20"
      },
      "execution_count": 35,
      "outputs": [
        {
          "output_type": "display_data",
          "data": {
            "text/plain": [
              "<Figure size 864x288 with 1 Axes>"
            ],
            "image/png": "[encoded data removed]"
          },
          "metadata": {
            "needs_background": "light"
          }
        }
      ]
    },
    {
      "cell_type": "code",
      "source": [
        "# L'histogramme de la variable cas\n",
        "fig, axs = plt.subplots(1, 2, figsize=(10, 5))\n",
        "data.boxplot(column=['cas'], ax=axs[0])\n",
        "data['cas'].hist(ax=axs[1])\n",
        "axs[0].set_title('Boxplot de cas')\n",
        "axs[1].set_title('Histogramme de cas')\n",
        "plt.show()"
      ],
      "metadata": {
        "id": "edHmx3jgsLYS",
        "colab": {
          "base_uri": "https://localhost:8080/",
          "height": 336
        },
        "outputId": "f5884b84-73d0-4fb9-dbb0-d6b3209de2bb"
      },
      "execution_count": 36,
      "outputs": [
        {
          "output_type": "display_data",
          "data": {
            "text/plain": [
              "<Figure size 720x360 with 2 Axes>"
            ],
            "image/png": "[encoded data removed]"
          },
          "metadata": {
            "needs_background": "light"
          }
        }
      ]
    },
    {
      "cell_type": "code",
      "source": [
        "# 7 Discrétiser la variable cas\n",
        "\n",
        "data[\"cas_classe\"]=pd.qcut(data['cas'],4)\n",
        "data"
      ],
      "metadata": {
        "id": "Ai8CCF4IupFL",
        "colab": {
          "base_uri": "https://localhost:8080/",
          "height": 424
        },
        "outputId": "1c1e8b4c-9816-4c2f-9746-289a197d4075"
      },
      "execution_count": 37,
      "outputs": [
        {
          "output_type": "execute_result",
          "data": {
            "text/plain": [
              "          date   tests  cas  contact  importe  communautaire  proportion  \\\n",
              "0   2020-03-02     1.0    1        0        0              0        1.00   \n",
              "1   2020-03-03     2.0    1        0        1              0        0.50   \n",
              "2   2020-03-04     2.0    2        1        1              0        1.00   \n",
              "4   2020-03-06     2.0    0        0        0              0        0.00   \n",
              "5   2020-03-07     2.0    0        0        0              0        0.00   \n",
              "..         ...     ...  ...      ...      ...            ...         ...   \n",
              "491 2021-07-07  2388.0  356      127        0            229        0.15   \n",
              "492 2021-07-08  2166.0  354      135        1            218        0.16   \n",
              "493 2021-07-09  2104.0  476      215        0            261        0.23   \n",
              "494 2021-07-10  2762.0  380      136        0            234        0.14   \n",
              "495 2021-07-11  2715.0  529      188        0            341        0.19   \n",
              "\n",
              "     total      cas_classe  \n",
              "0        1  (-0.001, 30.0]  \n",
              "1        2  (-0.001, 30.0]  \n",
              "2        4  (-0.001, 30.0]  \n",
              "4        4  (-0.001, 30.0]  \n",
              "5        4  (-0.001, 30.0]  \n",
              "..     ...             ...  \n",
              "491  46489  (131.0, 529.0]  \n",
              "492  46843  (131.0, 529.0]  \n",
              "493  47319  (131.0, 529.0]  \n",
              "494  47699  (131.0, 529.0]  \n",
              "495  48228  (131.0, 529.0]  \n",
              "\n",
              "[495 rows x 9 columns]"
            ],
            "text/html": [
              "\n",
              "  <div id=\"df-7253dc0e-dbd6-4139-89a3-73f7ebac7c86\">\n",
              "    <div class=\"colab-df-container\">\n",
              "      <div>\n",
              "<style scoped>\n",
              "    .dataframe tbody tr th:only-of-type {\n",
              "        vertical-align: middle;\n",
              "    }\n",
              "\n",
              "    .dataframe tbody tr th {\n",
              "        vertical-align: top;\n",
              "    }\n",
              "\n",
              "    .dataframe thead th {\n",
              "        text-align: right;\n",
              "    }\n",
              "</style>\n",
              "<table border=\"1\" class=\"dataframe\">\n",
              "  <thead>\n",
              "    <tr style=\"text-align: right;\">\n",
              "      <th></th>\n",
              "      <th>date</th>\n",
              "      <th>tests</th>\n",
              "      <th>cas</th>\n",
              "      <th>contact</th>\n",
              "      <th>importe</th>\n",
              "      <th>communautaire</th>\n",
              "      <th>proportion</th>\n",
              "      <th>total</th>\n",
              "      <th>cas_classe</th>\n",
              "    </tr>\n",
              "  </thead>\n",
              "  <tbody>\n",
              "    <tr>\n",
              "      <th>0</th>\n",
              "      <td>2020-03-02</td>\n",
              "      <td>1.0</td>\n",
              "      <td>1</td>\n",
              "      <td>0</td>\n",
              "      <td>0</td>\n",
              "      <td>0</td>\n",
              "      <td>1.00</td>\n",
              "      <td>1</td>\n",
              "      <td>(-0.001, 30.0]</td>\n",
              "    </tr>\n",
              "    <tr>\n",
              "      <th>1</th>\n",
              "      <td>2020-03-03</td>\n",
              "      <td>2.0</td>\n",
              "      <td>1</td>\n",
              "      <td>0</td>\n",
              "      <td>1</td>\n",
              "      <td>0</td>\n",
              "      <td>0.50</td>\n",
              "      <td>2</td>\n",
              "      <td>(-0.001, 30.0]</td>\n",
              "    </tr>\n",
              "    <tr>\n",
              "      <th>2</th>\n",
              "      <td>2020-03-04</td>\n",
              "      <td>2.0</td>\n",
              "      <td>2</td>\n",
              "      <td>1</td>\n",
              "      <td>1</td>\n",
              "      <td>0</td>\n",
              "      <td>1.00</td>\n",
              "      <td>4</td>\n",
              "      <td>(-0.001, 30.0]</td>\n",
              "    </tr>\n",
              "    <tr>\n",
              "      <th>4</th>\n",
              "      <td>2020-03-06</td>\n",
              "      <td>2.0</td>\n",
              "      <td>0</td>\n",
              "      <td>0</td>\n",
              "      <td>0</td>\n",
              "      <td>0</td>\n",
              "      <td>0.00</td>\n",
              "      <td>4</td>\n",
              "      <td>(-0.001, 30.0]</td>\n",
              "    </tr>\n",
              "    <tr>\n",
              "      <th>5</th>\n",
              "      <td>2020-03-07</td>\n",
              "      <td>2.0</td>\n",
              "      <td>0</td>\n",
              "      <td>0</td>\n",
              "      <td>0</td>\n",
              "      <td>0</td>\n",
              "      <td>0.00</td>\n",
              "      <td>4</td>\n",
              "      <td>(-0.001, 30.0]</td>\n",
              "    </tr>\n",
              "    <tr>\n",
              "      <th>...</th>\n",
              "      <td>...</td>\n",
              "      <td>...</td>\n",
              "      <td>...</td>\n",
              "      <td>...</td>\n",
              "      <td>...</td>\n",
              "      <td>...</td>\n",
              "      <td>...</td>\n",
              "      <td>...</td>\n",
              "      <td>...</td>\n",
              "    </tr>\n",
              "    <tr>\n",
              "      <th>491</th>\n",
              "      <td>2021-07-07</td>\n",
              "      <td>2388.0</td>\n",
              "      <td>356</td>\n",
              "      <td>127</td>\n",
              "      <td>0</td>\n",
              "      <td>229</td>\n",
              "      <td>0.15</td>\n",
              "      <td>46489</td>\n",
              "      <td>(131.0, 529.0]</td>\n",
              "    </tr>\n",
              "    <tr>\n",
              "      <th>492</th>\n",
              "      <td>2021-07-08</td>\n",
              "      <td>2166.0</td>\n",
              "      <td>354</td>\n",
              "      <td>135</td>\n",
              "      <td>1</td>\n",
              "      <td>218</td>\n",
              "      <td>0.16</td>\n",
              "      <td>46843</td>\n",
              "      <td>(131.0, 529.0]</td>\n",
              "    </tr>\n",
              "    <tr>\n",
              "      <th>493</th>\n",
              "      <td>2021-07-09</td>\n",
              "      <td>2104.0</td>\n",
              "      <td>476</td>\n",
              "      <td>215</td>\n",
              "      <td>0</td>\n",
              "      <td>261</td>\n",
              "      <td>0.23</td>\n",
              "      <td>47319</td>\n",
              "      <td>(131.0, 529.0]</td>\n",
              "    </tr>\n",
              "    <tr>\n",
              "      <th>494</th>\n",
              "      <td>2021-07-10</td>\n",
              "      <td>2762.0</td>\n",
              "      <td>380</td>\n",
              "      <td>136</td>\n",
              "      <td>0</td>\n",
              "      <td>234</td>\n",
              "      <td>0.14</td>\n",
              "      <td>47699</td>\n",
              "      <td>(131.0, 529.0]</td>\n",
              "    </tr>\n",
              "    <tr>\n",
              "      <th>495</th>\n",
              "      <td>2021-07-11</td>\n",
              "      <td>2715.0</td>\n",
              "      <td>529</td>\n",
              "      <td>188</td>\n",
              "      <td>0</td>\n",
              "      <td>341</td>\n",
              "      <td>0.19</td>\n",
              "      <td>48228</td>\n",
              "      <td>(131.0, 529.0]</td>\n",
              "    </tr>\n",
              "  </tbody>\n",
              "</table>\n",
              "<p>495 rows × 9 columns</p>\n",
              "</div>\n",
              "      <button class=\"colab-df-convert\" onclick=\"convertToInteractive('df-7253dc0e-dbd6-4139-89a3-73f7ebac7c86')\"\n",
              "              title=\"Convert this dataframe to an interactive table.\"\n",
              "              style=\"display:none;\">\n",
              "        \n",
              "  <svg xmlns=\"http://www.w3.org/2000/svg\" height=\"24px\"viewBox=\"0 0 24 24\"\n",
              "       width=\"24px\">\n",
              "    <path d=\"M0 0h24v24H0V0z\" fill=\"none\"/>\n",
              "    <path d=\"M18.56 5.44l.94 2.06.94-2.06 2.06-.94-2.06-.94-.94-2.06-.94 2.06-2.06.94zm-11 1L8.5 8.5l.94-2.06 2.06-.94-2.06-.94L8.5 2.5l-.94 2.06-2.06.94zm10 10l.94 2.06.94-2.06 2.06-.94-2.06-.94-.94-2.06-.94 2.06-2.06.94z\"/><path d=\"M17.41 7.96l-1.37-1.37c-.4-.4-.92-.59-1.43-.59-.52 0-1.04.2-1.43.59L10.3 9.45l-7.72 7.72c-.78.78-.78 2.05 0 2.83L4 21.41c.39.39.9.59 1.41.59.51 0 1.02-.2 1.41-.59l7.78-7.78 2.81-2.81c.8-.78.8-2.07 0-2.86zM5.41 20L4 18.59l7.72-7.72 1.47 1.35L5.41 20z\"/>\n",
              "  </svg>\n",
              "      </button>\n",
              "      \n",
              "  <style>\n",
              "    .colab-df-container {\n",
              "      display:flex;\n",
              "      flex-wrap:wrap;\n",
              "      gap: 12px;\n",
              "    }\n",
              "\n",
              "    .colab-df-convert {\n",
              "      background-color: #E8F0FE;\n",
              "      border: none;\n",
              "      border-radius: 50%;\n",
              "      cursor: pointer;\n",
              "      display: none;\n",
              "      fill: #1967D2;\n",
              "      height: 32px;\n",
              "      padding: 0 0 0 0;\n",
              "      width: 32px;\n",
              "    }\n",
              "\n",
              "    .colab-df-convert:hover {\n",
              "      background-color: #E2EBFA;\n",
              "      box-shadow: 0px 1px 2px rgba(60, 64, 67, 0.3), 0px 1px 3px 1px rgba(60, 64, 67, 0.15);\n",
              "      fill: #174EA6;\n",
              "    }\n",
              "\n",
              "    [theme=dark] .colab-df-convert {\n",
              "      background-color: #3B4455;\n",
              "      fill: #D2E3FC;\n",
              "    }\n",
              "\n",
              "    [theme=dark] .colab-df-convert:hover {\n",
              "      background-color: #434B5C;\n",
              "      box-shadow: 0px 1px 3px 1px rgba(0, 0, 0, 0.15);\n",
              "      filter: drop-shadow(0px 1px 2px rgba(0, 0, 0, 0.3));\n",
              "      fill: #FFFFFF;\n",
              "    }\n",
              "  </style>\n",
              "\n",
              "      <script>\n",
              "        const buttonEl =\n",
              "          document.querySelector('#df-7253dc0e-dbd6-4139-89a3-73f7ebac7c86 button.colab-df-convert');\n",
              "        buttonEl.style.display =\n",
              "          google.colab.kernel.accessAllowed ? 'block' : 'none';\n",
              "\n",
              "        async function convertToInteractive(key) {\n",
              "          const element = document.querySelector('#df-7253dc0e-dbd6-4139-89a3-73f7ebac7c86');\n",
              "          const dataTable =\n",
              "            await google.colab.kernel.invokeFunction('convertToInteractive',\n",
              "                                                     [key], {});\n",
              "          if (!dataTable) return;\n",
              "\n",
              "          const docLinkHtml = 'Like what you see? Visit the ' +\n",
              "            '<a target=\"_blank\" href=https://colab.research.google.com/notebooks/data_table.ipynb>data table notebook</a>'\n",
              "            + ' to learn more about interactive tables.';\n",
              "          element.innerHTML = '';\n",
              "          dataTable['output_type'] = 'display_data';\n",
              "          await google.colab.output.renderOutput(dataTable, element);\n",
              "          const docLink = document.createElement('div');\n",
              "          docLink.innerHTML = docLinkHtml;\n",
              "          element.appendChild(docLink);\n",
              "        }\n",
              "      </script>\n",
              "    </div>\n",
              "  </div>\n",
              "  "
            ]
          },
          "metadata": {},
          "execution_count": 37
        }
      ]
    },
    {
      "cell_type": "code",
      "source": [
        "# Les fréquences des modalités de la nouvelle variable cas_classe\n",
        "# Calcul des fréquences\n",
        "frequences = (round(data[\"cas_classe\"].value_counts(normalize=True), 4) * 100).astype(str) + '%'\n",
        "print(frequences)"
      ],
      "metadata": {
        "id": "uZQ5xNoFxADt",
        "colab": {
          "base_uri": "https://localhost:8080/"
        },
        "outputId": "a7d3b3e0-2e1e-4eab-c413-d0f834d5918e"
      },
      "execution_count": 38,
      "outputs": [
        {
          "output_type": "stream",
          "name": "stdout",
          "text": [
            "(-0.001, 30.0]    25.45%\n",
            "(30.0, 74.0]      25.05%\n",
            "(131.0, 529.0]    25.05%\n",
            "(74.0, 131.0]     24.44%\n",
            "Name: cas_classe, dtype: object\n"
          ]
        }
      ]
    },
    {
      "cell_type": "code",
      "source": [
        "# 9. Estimation de lambda par la méthode des moments\n",
        "lambda_moments = data['cas'].mean()\n",
        "print('Estimation de lambda par la méthode des moments:', lambda_moments)"
      ],
      "metadata": {
        "colab": {
          "base_uri": "https://localhost:8080/"
        },
        "id": "bJyRX7GUGyoQ",
        "outputId": "5f0109c4-3843-461f-dfa0-65497501bd06"
      },
      "execution_count": 39,
      "outputs": [
        {
          "output_type": "stream",
          "name": "stdout",
          "text": [
            "Estimation de lambda par la méthode des moments: 97.43030303030304\n"
          ]
        }
      ]
    },
    {
      "cell_type": "code",
      "source": [
        "# 10. Estimation de lambda par la méthode du maximum de vraisemblance\n",
        "# L'estimateur par la méthode du maximum de vraisemblance (EMV) d'une\n",
        "# variable suivant une loi de _P_ (λ), λ > 0 est la moyenne empirique\n",
        "lambda_mle = data['cas'].mean()\n",
        "print('Estimation de lambda par la méthode du maximum de vraisemblance:', lambda_mle)"
      ],
      "metadata": {
        "colab": {
          "base_uri": "https://localhost:8080/"
        },
        "id": "w8ooyTEKGz1w",
        "outputId": "88152625-2690-4767-b5f4-94691353b6f7"
      },
      "execution_count": 40,
      "outputs": [
        {
          "output_type": "stream",
          "name": "stdout",
          "text": [
            "Estimation de lambda par la méthode du maximum de vraisemblance: 97.43030303030304\n"
          ]
        }
      ]
    },
    {
      "cell_type": "markdown",
      "source": [
        "# **Exercice4**"
      ],
      "metadata": {
        "id": "v9CB4A3y5d_G"
      }
    },
    {
      "cell_type": "code",
      "source": [
        "#  Enregistrer les données et vérifier si vous avez une\n",
        "# structure de 799 observations et 26 variables\n",
        "\n",
        "df = pd.read_csv('/content/drive/MyDrive/Master_IA_DIT_2022/Course_Statistic_For_Datascience/exercices_pratiques_stat/smp.csv', sep = ';', header =0)\n",
        "# vérifier la taille des donnees\n",
        "print(df.shape) "
      ],
      "metadata": {
        "colab": {
          "base_uri": "https://localhost:8080/"
        },
        "id": "MnsLqJdrLuP_",
        "outputId": "2fe2e2b4-0146-4b2d-eba7-2fde6c10a9c2"
      },
      "execution_count": 41,
      "outputs": [
        {
          "output_type": "stream",
          "name": "stdout",
          "text": [
            "(799, 26)\n"
          ]
        }
      ]
    },
    {
      "cell_type": "code",
      "source": [
        "\n",
        "#  Changement  de types des variables\n",
        "\n",
        "# variables catégorielles\n",
        "cat_vars = ['prof','duree','discip','ecole','separation','juge.enfant','place','abus','grav.cons',\n",
        "               'dep.cons','ago.cons','ptsd.cons','alc.cons','subst.cons','scz.cons','char','rs','ed',\n",
        "               'dr','suicide.hr','suicide.past']\n",
        "\n",
        "# Conversion des variables catégorielles en type \"category\"\n",
        "df[cat_vars] = df[cat_vars].astype('category')\n",
        "\n",
        "# Conversion des variables numériques\n",
        "df['age'] = df['age'].astype('float64')\n",
        "df['n.enfant'] = df['n.enfant'].astype('float64')\n",
        "df['suicide.s'] = df['suicide.s'].astype('float64')\n",
        "df['dur.interv'] = df['dur.interv'].astype('float64')\n",
        "df['n.fratrie'] = df['n.fratrie'].astype('int64')\n",
        "\n",
        "# Vérification du résultat\n",
        "df.dtypes"
      ],
      "metadata": {
        "colab": {
          "base_uri": "https://localhost:8080/"
        },
        "id": "MVnDI_4pLh3W",
        "outputId": "cfe9daa4-3196-4c2f-cba7-6edbc8385b14"
      },
      "execution_count": 42,
      "outputs": [
        {
          "output_type": "execute_result",
          "data": {
            "text/plain": [
              "age              float64\n",
              "prof            category\n",
              "duree           category\n",
              "discip          category\n",
              "n.enfant         float64\n",
              "n.fratrie          int64\n",
              "ecole           category\n",
              "separation      category\n",
              "juge.enfant     category\n",
              "place           category\n",
              "abus            category\n",
              "grav.cons       category\n",
              "dep.cons        category\n",
              "ago.cons        category\n",
              "ptsd.cons       category\n",
              "alc.cons        category\n",
              "subst.cons      category\n",
              "scz.cons        category\n",
              "char            category\n",
              "rs              category\n",
              "ed              category\n",
              "dr              category\n",
              "suicide.s        float64\n",
              "suicide.hr      category\n",
              "suicide.past    category\n",
              "dur.interv       float64\n",
              "dtype: object"
            ]
          },
          "metadata": {},
          "execution_count": 42
        }
      ]
    },
    {
      "cell_type": "code",
      "source": [
        "# Calcul de la  lamoyenne, la variance, et l’écart type\n",
        "\n",
        "print(df[['age', 'n.enfant', 'n.fratrie', 'dur.interv']].mean().round(2))\n",
        "print(df[['age', 'n.enfant', 'n.fratrie', 'dur.interv']].var().round(2))\n",
        "print(df[['age', 'n.enfant', 'n.fratrie', 'dur.interv']].std().round(2))\n",
        "print(df['age'].quantile([0.25, 0.5, 0.75]))"
      ],
      "metadata": {
        "colab": {
          "base_uri": "https://localhost:8080/"
        },
        "id": "RA5yOPnALoVn",
        "outputId": "fcfff3ee-5f61-4307-c9d4-2ebd429fd0be"
      },
      "execution_count": 43,
      "outputs": [
        {
          "output_type": "stream",
          "name": "stdout",
          "text": [
            "age           38.90\n",
            "n.enfant       1.76\n",
            "n.fratrie      4.29\n",
            "dur.interv    61.89\n",
            "dtype: float64\n",
            "age           176.38\n",
            "n.enfant        3.36\n",
            "n.fratrie      11.84\n",
            "dur.interv    386.89\n",
            "dtype: float64\n",
            "age           13.28\n",
            "n.enfant       1.83\n",
            "n.fratrie      3.44\n",
            "dur.interv    19.67\n",
            "dtype: float64\n",
            "0.25    28.0\n",
            "0.50    37.0\n",
            "0.75    48.0\n",
            "Name: age, dtype: float64\n"
          ]
        }
      ]
    },
    {
      "cell_type": "code",
      "source": [
        "# Tracer le boxplot de  la variable age\n",
        "\n",
        "plt.style.use('seaborn-ticks')\n",
        "plt.figure(figsize=(4,4))\n",
        "Figure = sns.boxplot(data = df,\n",
        "                     y = 'age',\n",
        "                     color = 'green'\n",
        "                     )\n",
        "plt.show()\n"
      ],
      "metadata": {
        "colab": {
          "base_uri": "https://localhost:8080/",
          "height": 310
        },
        "id": "jaGA4nbRP-WT",
        "outputId": "ace51897-e855-464b-e2b8-184ca116cce2"
      },
      "execution_count": 44,
      "outputs": [
        {
          "output_type": "stream",
          "name": "stderr",
          "text": [
            "<ipython-input-44-919f68bcf11b>:3: MatplotlibDeprecationWarning: The seaborn styles shipped by Matplotlib are deprecated since 3.6, as they no longer correspond to the styles shipped by seaborn. However, they will remain available as 'seaborn-v0_8-<style>'. Alternatively, directly use the seaborn API instead.\n",
            "  plt.style.use('seaborn-ticks')\n"
          ]
        },
        {
          "output_type": "display_data",
          "data": {
            "text/plain": [
              "<Figure size 288x288 with 1 Axes>"
            ],
            "image/png": "[encoded data removed]"
          },
          "metadata": {}
        }
      ]
    },
    {
      "cell_type": "markdown",
      "source": [
        "### Conclusions :\n",
        "\n",
        "- La base contient de valeur aberante et 75% des individus de la base ont moins de 50 ans"
      ],
      "metadata": {
        "id": "-pKY18nzQ9Ba"
      }
    },
    {
      "cell_type": "code",
      "source": [
        "# Afficher les données pour les agriculteurs qui ont plus de 2 enfants\n",
        "print(df[(df['prof'] == 'agriculteur') & (df['n.enfant'] > 2)])"
      ],
      "metadata": {
        "colab": {
          "base_uri": "https://localhost:8080/"
        },
        "id": "9APnLuylQRDJ",
        "outputId": "e078f01a-0b94-4935-9fe4-eb611f8fa130"
      },
      "execution_count": 46,
      "outputs": [
        {
          "output_type": "stream",
          "name": "stdout",
          "text": [
            "      age         prof duree discip  n.enfant  n.fratrie ecole separation  \\\n",
            "14   64.0  agriculteur   NaN    0.0       3.0          2   1.0        0.0   \n",
            "311  42.0  agriculteur   4.0    0.0       3.0          6   1.0        0.0   \n",
            "390  36.0  agriculteur   4.0    1.0       3.0          4   3.0        1.0   \n",
            "441  79.0  agriculteur   5.0    0.0       5.0          6   2.0        0.0   \n",
            "\n",
            "    juge.enfant place  ... subst.cons scz.cons char   rs   ed   dr suicide.s  \\\n",
            "14          0.0   0.0  ...          0        0  1.0  1.0  1.0  3.0       0.0   \n",
            "311         0.0   0.0  ...          0        0  2.0  1.0  3.0  2.0       3.0   \n",
            "390         1.0   1.0  ...          1        0  1.0  NaN  3.0  1.0       0.0   \n",
            "441         0.0   0.0  ...          0        0  1.0  2.0  1.0  1.0       0.0   \n",
            "\n",
            "    suicide.hr suicide.past dur.interv  \n",
            "14         0.0          0.0       80.0  \n",
            "311        1.0          0.0        NaN  \n",
            "390        0.0          0.0        NaN  \n",
            "441        0.0          0.0       85.0  \n",
            "\n",
            "[4 rows x 26 columns]\n"
          ]
        }
      ]
    },
    {
      "cell_type": "code",
      "source": [
        "# Calcul des fréquences des modalités de la variable prof.\n",
        "frequences = (round(df[\"prof\"].value_counts(normalize=True), 4) * 100).astype(str) + '%'\n",
        "frequences"
      ],
      "metadata": {
        "colab": {
          "base_uri": "https://localhost:8080/"
        },
        "id": "bAq4nv9lRETZ",
        "outputId": "82e235e0-f569-4aac-e5df-541aa11d7d8f"
      },
      "execution_count": 48,
      "outputs": [
        {
          "output_type": "execute_result",
          "data": {
            "text/plain": [
              "ouvrier                            28.63%\n",
              "sans emploi                        27.99%\n",
              "employe                            17.02%\n",
              "artisan                            11.35%\n",
              "prof.intermediaire                  7.31%\n",
              "autre                               3.91%\n",
              "cadre                 3.0300000000000002%\n",
              "agriculteur                         0.76%\n",
              "Name: prof, dtype: object"
            ]
          },
          "metadata": {},
          "execution_count": 48
        }
      ]
    },
    {
      "cell_type": "code",
      "source": [
        "#  Diagramme circulaire de la variable profession\n",
        "df['prof'].value_counts().plot(kind='pie')\n",
        "plt.figure(figsize=(8,8))\n",
        "plt.style.use('dark_background')\n",
        "plt.show()"
      ],
      "metadata": {
        "colab": {
          "base_uri": "https://localhost:8080/",
          "height": 266
        },
        "id": "3to_EWKfTymz",
        "outputId": "42e373c3-9c30-4b06-f294-9b13a9484643"
      },
      "execution_count": 49,
      "outputs": [
        {
          "output_type": "display_data",
          "data": {
            "text/plain": [
              "<Figure size 432x288 with 1 Axes>"
            ],
            "image/png": "[encoded data removed]"
          },
          "metadata": {}
        },
        {
          "output_type": "display_data",
          "data": {
            "text/plain": [
              "<Figure size 576x576 with 0 Axes>"
            ]
          },
          "metadata": {}
        }
      ]
    },
    {
      "cell_type": "code",
      "source": [
        "# Donner les moyennes des âges par profession\n",
        "(df.groupby('prof')['age'].mean().round(2)).astype(str) + '%'"
      ],
      "metadata": {
        "colab": {
          "base_uri": "https://localhost:8080/"
        },
        "id": "AZCyLa_2VWf7",
        "outputId": "2cbfc0e0-67b3-46fc-e375-f13455fc72d0"
      },
      "execution_count": 50,
      "outputs": [
        {
          "output_type": "execute_result",
          "data": {
            "text/plain": [
              "prof\n",
              "agriculteur           48.83%\n",
              "artisan               45.11%\n",
              "autre                 34.94%\n",
              "cadre                 50.08%\n",
              "employe               38.71%\n",
              "ouvrier                37.4%\n",
              "prof.intermediaire    43.26%\n",
              "sans emploi            35.9%\n",
              "Name: age, dtype: object"
            ]
          },
          "metadata": {},
          "execution_count": 50
        }
      ]
    },
    {
      "cell_type": "code",
      "source": [
        "# Donner la table des effectifs pour les variables prof incluant les ”NaN”\n",
        "pd.crosstab(df['prof'], columns='count', dropna=False)"
      ],
      "metadata": {
        "colab": {
          "base_uri": "https://localhost:8080/",
          "height": 332
        },
        "id": "-6xRJm8CVYM9",
        "outputId": "75a1fbd0-1b5e-4573-c4f0-af7d74093689"
      },
      "execution_count": 51,
      "outputs": [
        {
          "output_type": "execute_result",
          "data": {
            "text/plain": [
              "col_0               count\n",
              "prof                     \n",
              "agriculteur             6\n",
              "artisan                90\n",
              "autre                  31\n",
              "cadre                  24\n",
              "employe               135\n",
              "ouvrier               227\n",
              "prof.intermediaire     58\n",
              "sans emploi           222"
            ],
            "text/html": [
              "\n",
              "  <div id=\"df-301daf22-79cf-4ca0-a748-faec948acb68\">\n",
              "    <div class=\"colab-df-container\">\n",
              "      <div>\n",
              "<style scoped>\n",
              "    .dataframe tbody tr th:only-of-type {\n",
              "        vertical-align: middle;\n",
              "    }\n",
              "\n",
              "    .dataframe tbody tr th {\n",
              "        vertical-align: top;\n",
              "    }\n",
              "\n",
              "    .dataframe thead th {\n",
              "        text-align: right;\n",
              "    }\n",
              "</style>\n",
              "<table border=\"1\" class=\"dataframe\">\n",
              "  <thead>\n",
              "    <tr style=\"text-align: right;\">\n",
              "      <th>col_0</th>\n",
              "      <th>count</th>\n",
              "    </tr>\n",
              "    <tr>\n",
              "      <th>prof</th>\n",
              "      <th></th>\n",
              "    </tr>\n",
              "  </thead>\n",
              "  <tbody>\n",
              "    <tr>\n",
              "      <th>agriculteur</th>\n",
              "      <td>6</td>\n",
              "    </tr>\n",
              "    <tr>\n",
              "      <th>artisan</th>\n",
              "      <td>90</td>\n",
              "    </tr>\n",
              "    <tr>\n",
              "      <th>autre</th>\n",
              "      <td>31</td>\n",
              "    </tr>\n",
              "    <tr>\n",
              "      <th>cadre</th>\n",
              "      <td>24</td>\n",
              "    </tr>\n",
              "    <tr>\n",
              "      <th>employe</th>\n",
              "      <td>135</td>\n",
              "    </tr>\n",
              "    <tr>\n",
              "      <th>ouvrier</th>\n",
              "      <td>227</td>\n",
              "    </tr>\n",
              "    <tr>\n",
              "      <th>prof.intermediaire</th>\n",
              "      <td>58</td>\n",
              "    </tr>\n",
              "    <tr>\n",
              "      <th>sans emploi</th>\n",
              "      <td>222</td>\n",
              "    </tr>\n",
              "  </tbody>\n",
              "</table>\n",
              "</div>\n",
              "      <button class=\"colab-df-convert\" onclick=\"convertToInteractive('df-301daf22-79cf-4ca0-a748-faec948acb68')\"\n",
              "              title=\"Convert this dataframe to an interactive table.\"\n",
              "              style=\"display:none;\">\n",
              "        \n",
              "  <svg xmlns=\"http://www.w3.org/2000/svg\" height=\"24px\"viewBox=\"0 0 24 24\"\n",
              "       width=\"24px\">\n",
              "    <path d=\"M0 0h24v24H0V0z\" fill=\"none\"/>\n",
              "    <path d=\"M18.56 5.44l.94 2.06.94-2.06 2.06-.94-2.06-.94-.94-2.06-.94 2.06-2.06.94zm-11 1L8.5 8.5l.94-2.06 2.06-.94-2.06-.94L8.5 2.5l-.94 2.06-2.06.94zm10 10l.94 2.06.94-2.06 2.06-.94-2.06-.94-.94-2.06-.94 2.06-2.06.94z\"/><path d=\"M17.41 7.96l-1.37-1.37c-.4-.4-.92-.59-1.43-.59-.52 0-1.04.2-1.43.59L10.3 9.45l-7.72 7.72c-.78.78-.78 2.05 0 2.83L4 21.41c.39.39.9.59 1.41.59.51 0 1.02-.2 1.41-.59l7.78-7.78 2.81-2.81c.8-.78.8-2.07 0-2.86zM5.41 20L4 18.59l7.72-7.72 1.47 1.35L5.41 20z\"/>\n",
              "  </svg>\n",
              "      </button>\n",
              "      \n",
              "  <style>\n",
              "    .colab-df-container {\n",
              "      display:flex;\n",
              "      flex-wrap:wrap;\n",
              "      gap: 12px;\n",
              "    }\n",
              "\n",
              "    .colab-df-convert {\n",
              "      background-color: #E8F0FE;\n",
              "      border: none;\n",
              "      border-radius: 50%;\n",
              "      cursor: pointer;\n",
              "      display: none;\n",
              "      fill: #1967D2;\n",
              "      height: 32px;\n",
              "      padding: 0 0 0 0;\n",
              "      width: 32px;\n",
              "    }\n",
              "\n",
              "    .colab-df-convert:hover {\n",
              "      background-color: #E2EBFA;\n",
              "      box-shadow: 0px 1px 2px rgba(60, 64, 67, 0.3), 0px 1px 3px 1px rgba(60, 64, 67, 0.15);\n",
              "      fill: #174EA6;\n",
              "    }\n",
              "\n",
              "    [theme=dark] .colab-df-convert {\n",
              "      background-color: #3B4455;\n",
              "      fill: #D2E3FC;\n",
              "    }\n",
              "\n",
              "    [theme=dark] .colab-df-convert:hover {\n",
              "      background-color: #434B5C;\n",
              "      box-shadow: 0px 1px 3px 1px rgba(0, 0, 0, 0.15);\n",
              "      filter: drop-shadow(0px 1px 2px rgba(0, 0, 0, 0.3));\n",
              "      fill: #FFFFFF;\n",
              "    }\n",
              "  </style>\n",
              "\n",
              "      <script>\n",
              "        const buttonEl =\n",
              "          document.querySelector('#df-301daf22-79cf-4ca0-a748-faec948acb68 button.colab-df-convert');\n",
              "        buttonEl.style.display =\n",
              "          google.colab.kernel.accessAllowed ? 'block' : 'none';\n",
              "\n",
              "        async function convertToInteractive(key) {\n",
              "          const element = document.querySelector('#df-301daf22-79cf-4ca0-a748-faec948acb68');\n",
              "          const dataTable =\n",
              "            await google.colab.kernel.invokeFunction('convertToInteractive',\n",
              "                                                     [key], {});\n",
              "          if (!dataTable) return;\n",
              "\n",
              "          const docLinkHtml = 'Like what you see? Visit the ' +\n",
              "            '<a target=\"_blank\" href=https://colab.research.google.com/notebooks/data_table.ipynb>data table notebook</a>'\n",
              "            + ' to learn more about interactive tables.';\n",
              "          element.innerHTML = '';\n",
              "          dataTable['output_type'] = 'display_data';\n",
              "          await google.colab.output.renderOutput(dataTable, element);\n",
              "          const docLink = document.createElement('div');\n",
              "          docLink.innerHTML = docLinkHtml;\n",
              "          element.appendChild(docLink);\n",
              "        }\n",
              "      </script>\n",
              "    </div>\n",
              "  </div>\n",
              "  "
            ]
          },
          "metadata": {},
          "execution_count": 51
        }
      ]
    },
    {
      "cell_type": "code",
      "source": [
        "#  Donner le nombre de ”Nan” pour chaque variable\n",
        "df.isna().sum()"
      ],
      "metadata": {
        "colab": {
          "base_uri": "https://localhost:8080/"
        },
        "id": "NKqVROSkVZc8",
        "outputId": "0d5c0e9d-10ac-44cb-a5f3-2a4dede62b3d"
      },
      "execution_count": 52,
      "outputs": [
        {
          "output_type": "execute_result",
          "data": {
            "text/plain": [
              "age               2\n",
              "prof              6\n",
              "duree           223\n",
              "discip            6\n",
              "n.enfant         26\n",
              "n.fratrie         0\n",
              "ecole             5\n",
              "separation       11\n",
              "juge.enfant       5\n",
              "place             7\n",
              "abus              7\n",
              "grav.cons         4\n",
              "dep.cons          0\n",
              "ago.cons          0\n",
              "ptsd.cons         0\n",
              "alc.cons          0\n",
              "subst.cons        0\n",
              "scz.cons          0\n",
              "char             96\n",
              "rs              103\n",
              "ed              107\n",
              "dr              111\n",
              "suicide.s        41\n",
              "suicide.hr       39\n",
              "suicide.past     14\n",
              "dur.interv       50\n",
              "dtype: int64"
            ]
          },
          "metadata": {},
          "execution_count": 52
        }
      ]
    },
    {
      "cell_type": "code",
      "source": [
        "#  Suppression des lignes contenant des NaN\n",
        "df = df.dropna()"
      ],
      "metadata": {
        "id": "VA08C2ZpVaoy"
      },
      "execution_count": null,
      "outputs": []
    },
    {
      "cell_type": "code",
      "source": [
        "\n",
        "# Verifier qu'il n'y a plus de valeurs manquantes \n",
        "df.isna().sum()"
      ],
      "metadata": {
        "colab": {
          "base_uri": "https://localhost:8080/"
        },
        "id": "8KwlH4-6iObh",
        "outputId": "0884eefe-f9b7-40a3-cc05-9b294790f92e"
      },
      "execution_count": 53,
      "outputs": [
        {
          "output_type": "execute_result",
          "data": {
            "text/plain": [
              "age               2\n",
              "prof              6\n",
              "duree           223\n",
              "discip            6\n",
              "n.enfant         26\n",
              "n.fratrie         0\n",
              "ecole             5\n",
              "separation       11\n",
              "juge.enfant       5\n",
              "place             7\n",
              "abus              7\n",
              "grav.cons         4\n",
              "dep.cons          0\n",
              "ago.cons          0\n",
              "ptsd.cons         0\n",
              "alc.cons          0\n",
              "subst.cons        0\n",
              "scz.cons          0\n",
              "char             96\n",
              "rs              103\n",
              "ed              107\n",
              "dr              111\n",
              "suicide.s        41\n",
              "suicide.hr       39\n",
              "suicide.past     14\n",
              "dur.interv       50\n",
              "dtype: int64"
            ]
          },
          "metadata": {},
          "execution_count": 53
        }
      ]
    },
    {
      "cell_type": "code",
      "source": [
        "# Histogramme et la densité de la variable age sur la même figure\n",
        "plt.hist(df['age'], density=True, alpha=0.5)\n",
        "df['age'].plot(kind='kde', secondary_y=True)\n",
        "plt.title(label ='Histogramme et courbe de densité  de la variable age')\n",
        "plt.show()"
      ],
      "metadata": {
        "colab": {
          "base_uri": "https://localhost:8080/",
          "height": 283
        },
        "id": "Gn3D6kxMVcLU",
        "outputId": "3097f857-4988-48fd-fb99-d2d8f5e53afc"
      },
      "execution_count": 54,
      "outputs": [
        {
          "output_type": "display_data",
          "data": {
            "text/plain": [
              "<Figure size 432x288 with 2 Axes>"
            ],
            "image/png": "[encoded data removed]"
          },
          "metadata": {}
        }
      ]
    },
    {
      "cell_type": "code",
      "source": [
        "# Discrétisez la variable age\n",
        "df[\"age_classe\"]=pd.qcut(df.age,4)\n",
        "df"
      ],
      "metadata": {
        "id": "7lwcgxjwVdtu",
        "colab": {
          "base_uri": "https://localhost:8080/",
          "height": 522
        },
        "outputId": "3983582e-1836-4a33-ffdb-3b34282677a6"
      },
      "execution_count": 55,
      "outputs": [
        {
          "output_type": "execute_result",
          "data": {
            "text/plain": [
              "      age                prof duree discip  n.enfant  n.fratrie ecole  \\\n",
              "0    31.0               autre   4.0    0.0       2.0          4   1.0   \n",
              "1    49.0                 NaN   NaN    0.0       7.0          3   2.0   \n",
              "2    50.0  prof.intermediaire   5.0    0.0       2.0          2   2.0   \n",
              "3    47.0             ouvrier   NaN    0.0       0.0          6   1.0   \n",
              "4    23.0         sans emploi   4.0    1.0       1.0          6   1.0   \n",
              "..    ...                 ...   ...    ...       ...        ...   ...   \n",
              "794  28.0         sans emploi   5.0    0.0       1.0          4   1.0   \n",
              "795  44.0             ouvrier   4.0    1.0       1.0         12   2.0   \n",
              "796  31.0               cadre   4.0    0.0       3.0          6   4.0   \n",
              "797  38.0             employe   5.0    0.0       0.0          1   3.0   \n",
              "798  71.0               autre   4.0    0.0       2.0          4   1.0   \n",
              "\n",
              "    separation juge.enfant place  ... scz.cons char   rs   ed   dr suicide.s  \\\n",
              "0          0.0         0.0   0.0  ...        0  1.0  2.0  1.0  1.0       0.0   \n",
              "1          1.0         0.0   0.0  ...        0  1.0  2.0  2.0  1.0       0.0   \n",
              "2          0.0         0.0   0.0  ...        0  1.0  2.0  3.0  2.0       0.0   \n",
              "3          1.0         0.0   1.0  ...        0  1.0  2.0  2.0  2.0       1.0   \n",
              "4          1.0         NaN   1.0  ...        0  1.0  2.0  2.0  2.0       0.0   \n",
              "..         ...         ...   ...  ...      ...  ...  ...  ...  ...       ...   \n",
              "794        NaN         1.0   0.0  ...        0  NaN  3.0  1.0  3.0       1.0   \n",
              "795        0.0         0.0   0.0  ...        0  1.0  1.0  1.0  1.0       0.0   \n",
              "796        1.0         1.0   1.0  ...        0  2.0  1.0  1.0  1.0       1.0   \n",
              "797        0.0         0.0   0.0  ...        0  1.0  1.0  1.0  1.0       0.0   \n",
              "798        1.0         0.0   0.0  ...        0  1.0  1.0  1.0  1.0       0.0   \n",
              "\n",
              "    suicide.hr suicide.past dur.interv      age_classe  \n",
              "0          0.0          0.0        NaN    (28.0, 37.0]  \n",
              "1          0.0          0.0       70.0    (48.0, 83.0]  \n",
              "2          0.0          0.0        NaN    (48.0, 83.0]  \n",
              "3          0.0          0.0      105.0    (37.0, 48.0]  \n",
              "4          0.0          1.0        NaN  (18.999, 28.0]  \n",
              "..         ...          ...        ...             ...  \n",
              "794        0.0          0.0       60.0  (18.999, 28.0]  \n",
              "795        0.0          1.0      105.0    (37.0, 48.0]  \n",
              "796        0.0          0.0      105.0    (28.0, 37.0]  \n",
              "797        0.0          0.0       75.0    (37.0, 48.0]  \n",
              "798        0.0          0.0       45.0    (48.0, 83.0]  \n",
              "\n",
              "[799 rows x 27 columns]"
            ],
            "text/html": [
              "\n",
              "  <div id=\"df-59a13fc8-1f02-4ad8-8809-47748963bda5\">\n",
              "    <div class=\"colab-df-container\">\n",
              "      <div>\n",
              "<style scoped>\n",
              "    .dataframe tbody tr th:only-of-type {\n",
              "        vertical-align: middle;\n",
              "    }\n",
              "\n",
              "    .dataframe tbody tr th {\n",
              "        vertical-align: top;\n",
              "    }\n",
              "\n",
              "    .dataframe thead th {\n",
              "        text-align: right;\n",
              "    }\n",
              "</style>\n",
              "<table border=\"1\" class=\"dataframe\">\n",
              "  <thead>\n",
              "    <tr style=\"text-align: right;\">\n",
              "      <th></th>\n",
              "      <th>age</th>\n",
              "      <th>prof</th>\n",
              "      <th>duree</th>\n",
              "      <th>discip</th>\n",
              "      <th>n.enfant</th>\n",
              "      <th>n.fratrie</th>\n",
              "      <th>ecole</th>\n",
              "      <th>separation</th>\n",
              "      <th>juge.enfant</th>\n",
              "      <th>place</th>\n",
              "      <th>...</th>\n",
              "      <th>scz.cons</th>\n",
              "      <th>char</th>\n",
              "      <th>rs</th>\n",
              "      <th>ed</th>\n",
              "      <th>dr</th>\n",
              "      <th>suicide.s</th>\n",
              "      <th>suicide.hr</th>\n",
              "      <th>suicide.past</th>\n",
              "      <th>dur.interv</th>\n",
              "      <th>age_classe</th>\n",
              "    </tr>\n",
              "  </thead>\n",
              "  <tbody>\n",
              "    <tr>\n",
              "      <th>0</th>\n",
              "      <td>31.0</td>\n",
              "      <td>autre</td>\n",
              "      <td>4.0</td>\n",
              "      <td>0.0</td>\n",
              "      <td>2.0</td>\n",
              "      <td>4</td>\n",
              "      <td>1.0</td>\n",
              "      <td>0.0</td>\n",
              "      <td>0.0</td>\n",
              "      <td>0.0</td>\n",
              "      <td>...</td>\n",
              "      <td>0</td>\n",
              "      <td>1.0</td>\n",
              "      <td>2.0</td>\n",
              "      <td>1.0</td>\n",
              "      <td>1.0</td>\n",
              "      <td>0.0</td>\n",
              "      <td>0.0</td>\n",
              "      <td>0.0</td>\n",
              "      <td>NaN</td>\n",
              "      <td>(28.0, 37.0]</td>\n",
              "    </tr>\n",
              "    <tr>\n",
              "      <th>1</th>\n",
              "      <td>49.0</td>\n",
              "      <td>NaN</td>\n",
              "      <td>NaN</td>\n",
              "      <td>0.0</td>\n",
              "      <td>7.0</td>\n",
              "      <td>3</td>\n",
              "      <td>2.0</td>\n",
              "      <td>1.0</td>\n",
              "      <td>0.0</td>\n",
              "      <td>0.0</td>\n",
              "      <td>...</td>\n",
              "      <td>0</td>\n",
              "      <td>1.0</td>\n",
              "      <td>2.0</td>\n",
              "      <td>2.0</td>\n",
              "      <td>1.0</td>\n",
              "      <td>0.0</td>\n",
              "      <td>0.0</td>\n",
              "      <td>0.0</td>\n",
              "      <td>70.0</td>\n",
              "      <td>(48.0, 83.0]</td>\n",
              "    </tr>\n",
              "    <tr>\n",
              "      <th>2</th>\n",
              "      <td>50.0</td>\n",
              "      <td>prof.intermediaire</td>\n",
              "      <td>5.0</td>\n",
              "      <td>0.0</td>\n",
              "      <td>2.0</td>\n",
              "      <td>2</td>\n",
              "      <td>2.0</td>\n",
              "      <td>0.0</td>\n",
              "      <td>0.0</td>\n",
              "      <td>0.0</td>\n",
              "      <td>...</td>\n",
              "      <td>0</td>\n",
              "      <td>1.0</td>\n",
              "      <td>2.0</td>\n",
              "      <td>3.0</td>\n",
              "      <td>2.0</td>\n",
              "      <td>0.0</td>\n",
              "      <td>0.0</td>\n",
              "      <td>0.0</td>\n",
              "      <td>NaN</td>\n",
              "      <td>(48.0, 83.0]</td>\n",
              "    </tr>\n",
              "    <tr>\n",
              "      <th>3</th>\n",
              "      <td>47.0</td>\n",
              "      <td>ouvrier</td>\n",
              "      <td>NaN</td>\n",
              "      <td>0.0</td>\n",
              "      <td>0.0</td>\n",
              "      <td>6</td>\n",
              "      <td>1.0</td>\n",
              "      <td>1.0</td>\n",
              "      <td>0.0</td>\n",
              "      <td>1.0</td>\n",
              "      <td>...</td>\n",
              "      <td>0</td>\n",
              "      <td>1.0</td>\n",
              "      <td>2.0</td>\n",
              "      <td>2.0</td>\n",
              "      <td>2.0</td>\n",
              "      <td>1.0</td>\n",
              "      <td>0.0</td>\n",
              "      <td>0.0</td>\n",
              "      <td>105.0</td>\n",
              "      <td>(37.0, 48.0]</td>\n",
              "    </tr>\n",
              "    <tr>\n",
              "      <th>4</th>\n",
              "      <td>23.0</td>\n",
              "      <td>sans emploi</td>\n",
              "      <td>4.0</td>\n",
              "      <td>1.0</td>\n",
              "      <td>1.0</td>\n",
              "      <td>6</td>\n",
              "      <td>1.0</td>\n",
              "      <td>1.0</td>\n",
              "      <td>NaN</td>\n",
              "      <td>1.0</td>\n",
              "      <td>...</td>\n",
              "      <td>0</td>\n",
              "      <td>1.0</td>\n",
              "      <td>2.0</td>\n",
              "      <td>2.0</td>\n",
              "      <td>2.0</td>\n",
              "      <td>0.0</td>\n",
              "      <td>0.0</td>\n",
              "      <td>1.0</td>\n",
              "      <td>NaN</td>\n",
              "      <td>(18.999, 28.0]</td>\n",
              "    </tr>\n",
              "    <tr>\n",
              "      <th>...</th>\n",
              "      <td>...</td>\n",
              "      <td>...</td>\n",
              "      <td>...</td>\n",
              "      <td>...</td>\n",
              "      <td>...</td>\n",
              "      <td>...</td>\n",
              "      <td>...</td>\n",
              "      <td>...</td>\n",
              "      <td>...</td>\n",
              "      <td>...</td>\n",
              "      <td>...</td>\n",
              "      <td>...</td>\n",
              "      <td>...</td>\n",
              "      <td>...</td>\n",
              "      <td>...</td>\n",
              "      <td>...</td>\n",
              "      <td>...</td>\n",
              "      <td>...</td>\n",
              "      <td>...</td>\n",
              "      <td>...</td>\n",
              "      <td>...</td>\n",
              "    </tr>\n",
              "    <tr>\n",
              "      <th>794</th>\n",
              "      <td>28.0</td>\n",
              "      <td>sans emploi</td>\n",
              "      <td>5.0</td>\n",
              "      <td>0.0</td>\n",
              "      <td>1.0</td>\n",
              "      <td>4</td>\n",
              "      <td>1.0</td>\n",
              "      <td>NaN</td>\n",
              "      <td>1.0</td>\n",
              "      <td>0.0</td>\n",
              "      <td>...</td>\n",
              "      <td>0</td>\n",
              "      <td>NaN</td>\n",
              "      <td>3.0</td>\n",
              "      <td>1.0</td>\n",
              "      <td>3.0</td>\n",
              "      <td>1.0</td>\n",
              "      <td>0.0</td>\n",
              "      <td>0.0</td>\n",
              "      <td>60.0</td>\n",
              "      <td>(18.999, 28.0]</td>\n",
              "    </tr>\n",
              "    <tr>\n",
              "      <th>795</th>\n",
              "      <td>44.0</td>\n",
              "      <td>ouvrier</td>\n",
              "      <td>4.0</td>\n",
              "      <td>1.0</td>\n",
              "      <td>1.0</td>\n",
              "      <td>12</td>\n",
              "      <td>2.0</td>\n",
              "      <td>0.0</td>\n",
              "      <td>0.0</td>\n",
              "      <td>0.0</td>\n",
              "      <td>...</td>\n",
              "      <td>0</td>\n",
              "      <td>1.0</td>\n",
              "      <td>1.0</td>\n",
              "      <td>1.0</td>\n",
              "      <td>1.0</td>\n",
              "      <td>0.0</td>\n",
              "      <td>0.0</td>\n",
              "      <td>1.0</td>\n",
              "      <td>105.0</td>\n",
              "      <td>(37.0, 48.0]</td>\n",
              "    </tr>\n",
              "    <tr>\n",
              "      <th>796</th>\n",
              "      <td>31.0</td>\n",
              "      <td>cadre</td>\n",
              "      <td>4.0</td>\n",
              "      <td>0.0</td>\n",
              "      <td>3.0</td>\n",
              "      <td>6</td>\n",
              "      <td>4.0</td>\n",
              "      <td>1.0</td>\n",
              "      <td>1.0</td>\n",
              "      <td>1.0</td>\n",
              "      <td>...</td>\n",
              "      <td>0</td>\n",
              "      <td>2.0</td>\n",
              "      <td>1.0</td>\n",
              "      <td>1.0</td>\n",
              "      <td>1.0</td>\n",
              "      <td>1.0</td>\n",
              "      <td>0.0</td>\n",
              "      <td>0.0</td>\n",
              "      <td>105.0</td>\n",
              "      <td>(28.0, 37.0]</td>\n",
              "    </tr>\n",
              "    <tr>\n",
              "      <th>797</th>\n",
              "      <td>38.0</td>\n",
              "      <td>employe</td>\n",
              "      <td>5.0</td>\n",
              "      <td>0.0</td>\n",
              "      <td>0.0</td>\n",
              "      <td>1</td>\n",
              "      <td>3.0</td>\n",
              "      <td>0.0</td>\n",
              "      <td>0.0</td>\n",
              "      <td>0.0</td>\n",
              "      <td>...</td>\n",
              "      <td>0</td>\n",
              "      <td>1.0</td>\n",
              "      <td>1.0</td>\n",
              "      <td>1.0</td>\n",
              "      <td>1.0</td>\n",
              "      <td>0.0</td>\n",
              "      <td>0.0</td>\n",
              "      <td>0.0</td>\n",
              "      <td>75.0</td>\n",
              "      <td>(37.0, 48.0]</td>\n",
              "    </tr>\n",
              "    <tr>\n",
              "      <th>798</th>\n",
              "      <td>71.0</td>\n",
              "      <td>autre</td>\n",
              "      <td>4.0</td>\n",
              "      <td>0.0</td>\n",
              "      <td>2.0</td>\n",
              "      <td>4</td>\n",
              "      <td>1.0</td>\n",
              "      <td>1.0</td>\n",
              "      <td>0.0</td>\n",
              "      <td>0.0</td>\n",
              "      <td>...</td>\n",
              "      <td>0</td>\n",
              "      <td>1.0</td>\n",
              "      <td>1.0</td>\n",
              "      <td>1.0</td>\n",
              "      <td>1.0</td>\n",
              "      <td>0.0</td>\n",
              "      <td>0.0</td>\n",
              "      <td>0.0</td>\n",
              "      <td>45.0</td>\n",
              "      <td>(48.0, 83.0]</td>\n",
              "    </tr>\n",
              "  </tbody>\n",
              "</table>\n",
              "<p>799 rows × 27 columns</p>\n",
              "</div>\n",
              "      <button class=\"colab-df-convert\" onclick=\"convertToInteractive('df-59a13fc8-1f02-4ad8-8809-47748963bda5')\"\n",
              "              title=\"Convert this dataframe to an interactive table.\"\n",
              "              style=\"display:none;\">\n",
              "        \n",
              "  <svg xmlns=\"http://www.w3.org/2000/svg\" height=\"24px\"viewBox=\"0 0 24 24\"\n",
              "       width=\"24px\">\n",
              "    <path d=\"M0 0h24v24H0V0z\" fill=\"none\"/>\n",
              "    <path d=\"M18.56 5.44l.94 2.06.94-2.06 2.06-.94-2.06-.94-.94-2.06-.94 2.06-2.06.94zm-11 1L8.5 8.5l.94-2.06 2.06-.94-2.06-.94L8.5 2.5l-.94 2.06-2.06.94zm10 10l.94 2.06.94-2.06 2.06-.94-2.06-.94-.94-2.06-.94 2.06-2.06.94z\"/><path d=\"M17.41 7.96l-1.37-1.37c-.4-.4-.92-.59-1.43-.59-.52 0-1.04.2-1.43.59L10.3 9.45l-7.72 7.72c-.78.78-.78 2.05 0 2.83L4 21.41c.39.39.9.59 1.41.59.51 0 1.02-.2 1.41-.59l7.78-7.78 2.81-2.81c.8-.78.8-2.07 0-2.86zM5.41 20L4 18.59l7.72-7.72 1.47 1.35L5.41 20z\"/>\n",
              "  </svg>\n",
              "      </button>\n",
              "      \n",
              "  <style>\n",
              "    .colab-df-container {\n",
              "      display:flex;\n",
              "      flex-wrap:wrap;\n",
              "      gap: 12px;\n",
              "    }\n",
              "\n",
              "    .colab-df-convert {\n",
              "      background-color: #E8F0FE;\n",
              "      border: none;\n",
              "      border-radius: 50%;\n",
              "      cursor: pointer;\n",
              "      display: none;\n",
              "      fill: #1967D2;\n",
              "      height: 32px;\n",
              "      padding: 0 0 0 0;\n",
              "      width: 32px;\n",
              "    }\n",
              "\n",
              "    .colab-df-convert:hover {\n",
              "      background-color: #E2EBFA;\n",
              "      box-shadow: 0px 1px 2px rgba(60, 64, 67, 0.3), 0px 1px 3px 1px rgba(60, 64, 67, 0.15);\n",
              "      fill: #174EA6;\n",
              "    }\n",
              "\n",
              "    [theme=dark] .colab-df-convert {\n",
              "      background-color: #3B4455;\n",
              "      fill: #D2E3FC;\n",
              "    }\n",
              "\n",
              "    [theme=dark] .colab-df-convert:hover {\n",
              "      background-color: #434B5C;\n",
              "      box-shadow: 0px 1px 3px 1px rgba(0, 0, 0, 0.15);\n",
              "      filter: drop-shadow(0px 1px 2px rgba(0, 0, 0, 0.3));\n",
              "      fill: #FFFFFF;\n",
              "    }\n",
              "  </style>\n",
              "\n",
              "      <script>\n",
              "        const buttonEl =\n",
              "          document.querySelector('#df-59a13fc8-1f02-4ad8-8809-47748963bda5 button.colab-df-convert');\n",
              "        buttonEl.style.display =\n",
              "          google.colab.kernel.accessAllowed ? 'block' : 'none';\n",
              "\n",
              "        async function convertToInteractive(key) {\n",
              "          const element = document.querySelector('#df-59a13fc8-1f02-4ad8-8809-47748963bda5');\n",
              "          const dataTable =\n",
              "            await google.colab.kernel.invokeFunction('convertToInteractive',\n",
              "                                                     [key], {});\n",
              "          if (!dataTable) return;\n",
              "\n",
              "          const docLinkHtml = 'Like what you see? Visit the ' +\n",
              "            '<a target=\"_blank\" href=https://colab.research.google.com/notebooks/data_table.ipynb>data table notebook</a>'\n",
              "            + ' to learn more about interactive tables.';\n",
              "          element.innerHTML = '';\n",
              "          dataTable['output_type'] = 'display_data';\n",
              "          await google.colab.output.renderOutput(dataTable, element);\n",
              "          const docLink = document.createElement('div');\n",
              "          docLink.innerHTML = docLinkHtml;\n",
              "          element.appendChild(docLink);\n",
              "        }\n",
              "      </script>\n",
              "    </div>\n",
              "  </div>\n",
              "  "
            ]
          },
          "metadata": {},
          "execution_count": 55
        }
      ]
    },
    {
      "cell_type": "code",
      "source": [
        "# 14 Donner les fréquences des modalités de la nouvelle variable age_classe\n",
        "freq_age_classe = (df['age_classe'].value_counts(normalize=True).mul(100).round(2)).astype(str) + '%'\n",
        "freq_age_classe"
      ],
      "metadata": {
        "colab": {
          "base_uri": "https://localhost:8080/"
        },
        "id": "E1KX6j0DVfTK",
        "outputId": "d7cb3e1b-40b5-497c-99f3-75fd829088ab"
      },
      "execution_count": 56,
      "outputs": [
        {
          "output_type": "execute_result",
          "data": {
            "text/plain": [
              "(18.999, 28.0]     26.6%\n",
              "(37.0, 48.0]      26.22%\n",
              "(28.0, 37.0]      23.84%\n",
              "(48.0, 83.0]      23.34%\n",
              "Name: age_classe, dtype: object"
            ]
          },
          "metadata": {},
          "execution_count": 56
        }
      ]
    }
  ]
}